{
 "cells": [
  {
   "cell_type": "markdown",
   "metadata": {},
   "source": [
    "# Case Study 1 : Collecting Data from Twitter\n",
    "\n",
    "Due Date: September 22, **before the beginning of class at 6:00pm**\n",
    "\n",
    "* ------------"
   ]
  },
  {
   "cell_type": "markdown",
   "metadata": {},
   "source": [
    "<img src=\"https://upload.wikimedia.org/wikipedia/en/thumb/9/9f/Twitter_bird_logo_2012.svg/220px-Twitter_bird_logo_2012.svg.png\">"
   ]
  },
  {
   "cell_type": "markdown",
   "metadata": {},
   "source": [
    "**TEAM Members:** Please EDIT this cell and add the names of all the team members in your team\n",
    "\n",
    "    member 1\n",
    "    \n",
    "    member 2\n",
    "    \n",
    "    ..."
   ]
  },
  {
   "cell_type": "markdown",
   "metadata": {},
   "source": [
    "**Required Readings:** \n",
    "* Chapter 1 and Chapter 9 of the book [Mining the Social Web](http://www.learndatasci.com/wp-content/uploads/2015/08/Mining-the-Social-Web-2nd-Edition.pdf) \n",
    "* The codes for [Chapter 1](http://bit.ly/1qCtMrr) and [Chapter 9](http://bit.ly/1u7eP33)\n",
    "\n",
    "\n",
    "** NOTE **\n",
    "* Please don't forget to save the notebook frequently when working in IPython Notebook, otherwise the changes you made can be lost.\n",
    "\n",
    "*----------------------"
   ]
  },
  {
   "cell_type": "markdown",
   "metadata": {},
   "source": [
    "# Problem 1: Sampling Twitter Data with Streaming API about a certain topic"
   ]
  },
  {
   "cell_type": "markdown",
   "metadata": {},
   "source": [
    "* Select a topic that you are interested in, for example, \"WPI\" or \"Lady Gaga\"\n",
    "* Use Twitter Streaming API to sample a collection of tweets about this topic in real time. (It would be recommended that the number of tweets should be larger than 200, but smaller than 1 million.\n",
    "* Store the tweets you downloaded into a local file (txt file or json file) "
   ]
  },
  {
   "cell_type": "code",
   "execution_count": 2,
   "metadata": {
    "collapsed": false
   },
   "outputs": [
    {
     "name": "stdout",
     "output_type": "stream",
     "text": [
      "('Length of statuses', 100)\n",
      "('Length of statuses', 200)\n",
      "('Length of statuses', 300)\n",
      "('Length of statuses', 400)\n",
      "('Length of statuses', 500)\n",
      "('Length of statuses', 600)\n",
      "('Length of statuses', 700)\n",
      "('Length of statuses', 800)\n",
      "('Length of statuses', 900)\n",
      "('Length of statuses', 1000)\n",
      "Tweets output to file successfully!\n"
     ]
    }
   ],
   "source": [
    "import twitter\n",
    "#---------------------------------------------\n",
    "# Define a Function to Login Twitter API\n",
    "def oauth_login():\n",
    "    # Go to http://twitter.com/apps/new to create an app and get values\n",
    "    # for these credentials that you'll need to provide in place of these\n",
    "    # empty string values that are defined as placeholders.\n",
    "    # See https://dev.twitter.com/docs/auth/oauth for more information \n",
    "    # on Twitter's OAuth implementation.\n",
    "    \n",
    "    CONSUMER_KEY = 'iEG3V3LLXNerRncmEWgv8lQ4n'\n",
    "    CONSUMER_SECRET ='67HGDVQRF7YxJ6ZUFnUlvwreR2CShhao1Zx6k5wo0OoRRkGez4'\n",
    "    OAUTH_TOKEN = '2380166015-sZywqhm3U9naQ154u0qQQzBv1FJgAWDVSWN6ROB'\n",
    "    OAUTH_TOKEN_SECRET = '1AQCSvqp06DTpwYbgBXooWVmLuzWJ8zpsFpWgaazUhhha'\n",
    "    \n",
    "    auth = twitter.oauth.OAuth(OAUTH_TOKEN, OAUTH_TOKEN_SECRET,\n",
    "                               CONSUMER_KEY, CONSUMER_SECRET)\n",
    "    \n",
    "    twitter_api = twitter.Twitter(auth=auth)\n",
    "    return twitter_api\n",
    "\n",
    "#----------------------------------------------\n",
    "# Your code starts here\n",
    "#   Please add comments or text cells in between to explain the general idea of each block of the code.\n",
    "#   Please feel free to add more cells below this cell if necessary\n",
    "import json\n",
    "\n",
    "# login to api\n",
    "twitter_api = oauth_login()\n",
    "\n",
    "# set initial search\n",
    "search_results = twitter_api.search.tweets(q='Trump', count=100)\n",
    "statuses = search_results['statuses']\n",
    "print(\"Length of statuses\", len(statuses))\n",
    "max_tweets = 1000\n",
    "\n",
    "while(len(statuses) < max_tweets):\n",
    "    try:\n",
    "        next_results = search_results['search_metadata']['next_results']\n",
    "    except KeyError: # No more results when next_results doesn't exist\n",
    "        break\n",
    "        \n",
    "    # Create a dictionary from next_results, which has the following form:\n",
    "    # ?max_id=313519052523986943&q=NCAA&include_entities=1\n",
    "    kwargs = dict([ kv.split('=') for kv in next_results[1:].split(\"&\") ])\n",
    "    \n",
    "    # search api will take the key words dictionary\n",
    "    search_results = twitter_api.search.tweets(**kwargs)\n",
    "    statuses += search_results['statuses']\n",
    "    print(\"Length of statuses\", len(statuses))\n",
    "\n",
    "# Write the status to a local file\n",
    "outfile = open('tweets.txt', 'w')\n",
    "outfile.write(json.dumps(statuses, indent=1))\n",
    "outfile.close()\n",
    "print \"Tweets output to file successfully!\"\n",
    "\n",
    "\n",
    "\n",
    "\n",
    "\n",
    "\n",
    "\n"
   ]
  },
  {
   "cell_type": "markdown",
   "metadata": {},
   "source": [
    "### Report some statistics about the tweets you collected \n",
    "\n",
    "* The topic of interest: < INSERT YOUR TOPIC HERE>\n",
    "\n",
    "\n",
    "* The total number of tweets collected:  < INSERT THE NUMBER HERE>"
   ]
  },
  {
   "cell_type": "markdown",
   "metadata": {},
   "source": [
    "*-----------------------"
   ]
  },
  {
   "cell_type": "markdown",
   "metadata": {},
   "source": [
    "# Problem 2: Analyzing Tweets and Tweet Entities with Frequency Analysis\n",
    "\n",
    "**1. Word Count:** \n",
    "* Use the tweets you collected in Problem 1, and compute the frequencies of the words being used in these tweets. \n",
    "* Plot a table of the top 30 words with their counts"
   ]
  },
  {
   "cell_type": "code",
   "execution_count": 3,
   "metadata": {
    "collapsed": false
   },
   "outputs": [
    {
     "name": "stdout",
     "output_type": "stream",
     "text": [
      "+----------+-------+\n",
      "|   Word   | Count |\n",
      "+----------+-------+\n",
      "|    RT    |   701 |\n",
      "|  Trump   |   556 |\n",
      "|   the    |   449 |\n",
      "|    to    |   289 |\n",
      "|    of    |   289 |\n",
      "|    a     |   269 |\n",
      "|    is    |   248 |\n",
      "|    on    |   190 |\n",
      "|   for    |   185 |\n",
      "|    in    |   182 |\n",
      "|   and    |   178 |\n",
      "|   his    |   126 |\n",
      "|   9/11   |   124 |\n",
      "|   now    |    99 |\n",
      "|   was    |    90 |\n",
      "|  Donald  |    88 |\n",
      "|    I     |    82 |\n",
      "| Hillary  |    80 |\n",
      "|    be    |    79 |\n",
      "|   that   |    72 |\n",
      "| building |    71 |\n",
      "|   this   |    69 |\n",
      "|  &amp;   |    69 |\n",
      "|  about   |    67 |\n",
      "| Clinton  |    62 |\n",
      "| Trump's  |    61 |\n",
      "|    he    |    60 |\n",
      "|   not    |    58 |\n",
      "|    it    |    58 |\n",
      "|  #Trump  |    58 |\n",
      "+----------+-------+\n"
     ]
    }
   ],
   "source": [
    "#----------------------------------------------\n",
    "# Your code starts here\n",
    "#   Please add comments or text cells in between to explain the general idea of each block of the code.\n",
    "#   Please feel free to add more cells below this cell if necessary\n",
    "\n",
    "import time\n",
    "from collections import Counter\n",
    "from prettytable import PrettyTable\n",
    "\n",
    "# Collect status texts\n",
    "status_texts = [ status['text'] \n",
    "                 for status in statuses ]\n",
    "\n",
    "# Use word to store all words in tweets and use counter to do analysis\n",
    "word = []\n",
    "for text in status_texts:\n",
    "    for w in text.split():\n",
    "        word.append(w)\n",
    "word_freq = Counter(word)\n",
    "\n",
    "# Put the data into the prettytable\n",
    "top_word = PrettyTable(field_names=['Word','Count']) # Header\n",
    "for item in word_freq.most_common()[:30]:\n",
    "    top_word.add_row(item) # Adding rows\n",
    "top_word.align['Word'], top_word.align['Count'] = 'c', 'r' # Set column alignment\n",
    "print top_word\n",
    "\n",
    "\n",
    "\n",
    "\n",
    "\n",
    "\n",
    "\n",
    "\n",
    "\n",
    "\n",
    "\n",
    "\n"
   ]
  },
  {
   "cell_type": "markdown",
   "metadata": {},
   "source": [
    "**2. Find the most popular tweets in your collection of tweets**\n",
    "\n",
    "Please plot a table of the top 10 tweets that are the most popular among your collection, i.e., the tweets with the largest number of retweet counts.\n"
   ]
  },
  {
   "cell_type": "code",
   "execution_count": 4,
   "metadata": {
    "collapsed": false
   },
   "outputs": [
    {
     "name": "stdout",
     "output_type": "stream",
     "text": [
      "+-------+--------------+----------------------------------------------------+\n",
      "| Count | Screen Name  | Tweet Text                                         |\n",
      "+-------+--------------+----------------------------------------------------+\n",
      "| 95404 | cool_as_heck | RT @cool_as_heck: 100,000 RTs AND TRUMP WILL STOP  |\n",
      "|       |              | RUNNING FOR PRESIDENT! LETS MAKE IT HAPPEN!!!      |\n",
      "|       |              | https://t.co/gCECZimXj5                            |\n",
      "| 95404 | cool_as_heck | RT @cool_as_heck: 100,000 RTs AND TRUMP WILL STOP  |\n",
      "|       |              | RUNNING FOR PRESIDENT! LETS MAKE IT HAPPEN!!!      |\n",
      "|       |              | https://t.co/gCECZimXj5                            |\n",
      "| 95404 | cool_as_heck | RT @cool_as_heck: 100,000 RTs AND TRUMP WILL STOP  |\n",
      "|       |              | RUNNING FOR PRESIDENT! LETS MAKE IT HAPPEN!!!      |\n",
      "|       |              | https://t.co/gCECZimXj5                            |\n",
      "| 95404 | cool_as_heck | RT @cool_as_heck: 100,000 RTs AND TRUMP WILL STOP  |\n",
      "|       |              | RUNNING FOR PRESIDENT! LETS MAKE IT HAPPEN!!!      |\n",
      "|       |              | https://t.co/gCECZimXj5                            |\n",
      "| 95404 | cool_as_heck | RT @cool_as_heck: 100,000 RTs AND TRUMP WILL STOP  |\n",
      "|       |              | RUNNING FOR PRESIDENT! LETS MAKE IT HAPPEN!!!      |\n",
      "|       |              | https://t.co/gCECZimXj5                            |\n",
      "| 95404 | cool_as_heck | RT @cool_as_heck: 100,000 RTs AND TRUMP WILL STOP  |\n",
      "|       |              | RUNNING FOR PRESIDENT! LETS MAKE IT HAPPEN!!!      |\n",
      "|       |              | https://t.co/gCECZimXj5                            |\n",
      "| 95404 | cool_as_heck | RT @cool_as_heck: 100,000 RTs AND TRUMP WILL STOP  |\n",
      "|       |              | RUNNING FOR PRESIDENT! LETS MAKE IT HAPPEN!!!      |\n",
      "|       |              | https://t.co/gCECZimXj5                            |\n",
      "| 95404 | cool_as_heck | RT @cool_as_heck: 100,000 RTs AND TRUMP WILL STOP  |\n",
      "|       |              | RUNNING FOR PRESIDENT! LETS MAKE IT HAPPEN!!!      |\n",
      "|       |              | https://t.co/gCECZimXj5                            |\n",
      "| 95404 | cool_as_heck | RT @cool_as_heck: 100,000 RTs AND TRUMP WILL STOP  |\n",
      "|       |              | RUNNING FOR PRESIDENT! LETS MAKE IT HAPPEN!!!      |\n",
      "|       |              | https://t.co/gCECZimXj5                            |\n",
      "| 95404 | cool_as_heck | RT @cool_as_heck: 100,000 RTs AND TRUMP WILL STOP  |\n",
      "|       |              | RUNNING FOR PRESIDENT! LETS MAKE IT HAPPEN!!!      |\n",
      "|       |              | https://t.co/gCECZimXj5                            |\n",
      "+-------+--------------+----------------------------------------------------+\n"
     ]
    }
   ],
   "source": [
    "#----------------------------------------------\n",
    "# Your code starts here\n",
    "#   Please add comments or text cells in between to explain the general idea of each block of the code.\n",
    "#   Please feel free to add more cells below this cell if necessary\n",
    "\n",
    "# Collect all retweets\n",
    "retweets = []\n",
    "for status in statuses:\n",
    "    if 'retweeted_status' in status:\n",
    "        retweets.append((status['retweet_count'], status['retweeted_status']['user']['screen_name'], status['text']))\n",
    "\n",
    "# Generate the pretty table\n",
    "most_retweet = PrettyTable(field_names=['Count', 'Screen Name', 'Tweet Text']) # Header\n",
    "for item in sorted(retweets, reverse=True)[:10]:\n",
    "    most_retweet.add_row(item) # Adding rows\n",
    "most_retweet.align['Count'], most_retweet.align['Screen Name'], most_retweet.align['Tweet Text'] = 'l', 'l', 'l'\n",
    "most_retweet.max_width['Tweet Text'] = 50 # Set max width for \"Tweet Text\" column\n",
    "print most_retweet\n",
    "\n",
    "\n",
    "\n",
    "\n",
    "\n",
    "\n",
    "\n",
    "\n",
    "\n"
   ]
  },
  {
   "cell_type": "markdown",
   "metadata": {},
   "source": [
    "**3. Find the most popular Tweet Entities in your collection of tweets**\n",
    "\n",
    "Please plot a table of the top 10 hashtags, top 10 user mentions that are the most popular in your collection of tweets."
   ]
  },
  {
   "cell_type": "code",
   "execution_count": 5,
   "metadata": {
    "collapsed": false
   },
   "outputs": [
    {
     "name": "stdout",
     "output_type": "stream",
     "text": [
      "+---------------------+-------+\n",
      "| Hashtag             | Count |\n",
      "+---------------------+-------+\n",
      "| Trump               |   69  |\n",
      "| NeverForget         |   35  |\n",
      "| BasketOfDeplorables |   18  |\n",
      "| HillaryHealth       |   16  |\n",
      "| MAGA                |   14  |\n",
      "| HillarysHealth      |   13  |\n",
      "| tcot                |   12  |\n",
      "| TrumpTrain          |   9   |\n",
      "| GOP                 |   9   |\n",
      "| Hillary             |   8   |\n",
      "+---------------------+-------+\n",
      "+-----------------+-------+\n",
      "| Mention User    | Count |\n",
      "+-----------------+-------+\n",
      "| JoyAnnReid      |   33  |\n",
      "| realDonaldTrump |   33  |\n",
      "| MarlowNYC       |   28  |\n",
      "| HillaryClinton  |   24  |\n",
      "| ScottyLiterati  |   21  |\n",
      "| pattonoswalt    |   16  |\n",
      "| TheRickWilson   |   15  |\n",
      "| cool_as_heck    |   14  |\n",
      "| TeamTrump       |   14  |\n",
      "| FoxNews         |   11  |\n",
      "+-----------------+-------+\n"
     ]
    }
   ],
   "source": [
    "#----------------------------------------------\n",
    "# Your code starts here\n",
    "#   Please add comments or text cells in between to explain the general idea of each block of the code.\n",
    "#   Please feel free to add more cells below this cell if necessary\n",
    "\n",
    "# Collect hashtags\n",
    "hashtags = [ hashtag['text'] \n",
    "             for status in statuses\n",
    "                 for hashtag in status['entities']['hashtags'] ]\n",
    "\n",
    "# Collect mention user\n",
    "mention_user = [ user_mention['screen_name'] \n",
    "                 for status in statuses\n",
    "                     for user_mention in status['entities']['user_mentions'] ]\n",
    "\n",
    "# Generate pretty table\n",
    "for label, data in (('Hashtag',hashtags), ('Mention User', mention_user)): # Access two table data\n",
    "    table = PrettyTable(field_names=[label, 'Count']) # Header\n",
    "    count = Counter(data) # Count the data\n",
    "    for item in count.most_common()[:10]:\n",
    "        table.add_row(item) # Adding each row\n",
    "    table.align[label], table.align['Count'] = 'l', 'c'\n",
    "    print table\n",
    "\n",
    "\n",
    "\n",
    "\n"
   ]
  },
  {
   "cell_type": "markdown",
   "metadata": {},
   "source": [
    "* ------------------------\n",
    "\n",
    "# Problem 3: Getting \"All\" friends and \"All\" followers of a popular user in twitter\n"
   ]
  },
  {
   "cell_type": "markdown",
   "metadata": {},
   "source": [
    "* choose a popular twitter user who has many followers, such as \"ladygaga\".\n",
    "* Get the list of all friends and all followers of the twitter user.\n",
    "* Plot 20 out of the followers, plot their ID numbers and screen names in a table.\n",
    "* Plot 20 out of the friends (if the user has more than 20 friends), plot their ID numbers and screen names in a table."
   ]
  },
  {
   "cell_type": "code",
   "execution_count": 6,
   "metadata": {
    "collapsed": false
   },
   "outputs": [
    {
     "ename": "TwitterHTTPError",
     "evalue": "Twitter sent status 429 for URL: 1.1/followers/list.json using parameters: (count=200&cursor=1545201621576176381&oauth_consumer_key=iEG3V3LLXNerRncmEWgv8lQ4n&oauth_nonce=14569851442912234998&oauth_signature_method=HMAC-SHA1&oauth_timestamp=1473620593&oauth_token=2380166015-sZywqhm3U9naQ154u0qQQzBv1FJgAWDVSWN6ROB&oauth_version=1.0&screen_name=realDonaldTrump&oauth_signature=rdNBOiLgG9ZRdyEva2pREgutk5M%3D)\ndetails: {u'errors': [{u'message': u'Rate limit exceeded', u'code': 88}]}",
     "output_type": "error",
     "traceback": [
      "\u001b[1;31m---------------------------------------------------------------------------\u001b[0m",
      "\u001b[1;31mTwitterHTTPError\u001b[0m                          Traceback (most recent call last)",
      "\u001b[1;32m<ipython-input-6-7361870ee5fc>\u001b[0m in \u001b[0;36m<module>\u001b[1;34m()\u001b[0m\n\u001b[0;32m     20\u001b[0m \u001b[0mrate_counter\u001b[0m \u001b[1;33m=\u001b[0m \u001b[1;36m1\u001b[0m\u001b[1;33m\u001b[0m\u001b[0m\n\u001b[0;32m     21\u001b[0m \u001b[1;32mwhile\u001b[0m \u001b[1;33m(\u001b[0m\u001b[0mnext_cursor\u001b[0m \u001b[1;33m!=\u001b[0m \u001b[1;33m-\u001b[0m\u001b[1;36m1\u001b[0m \u001b[1;32mand\u001b[0m \u001b[0mlen\u001b[0m\u001b[1;33m(\u001b[0m\u001b[0mfollower_list\u001b[0m\u001b[1;33m)\u001b[0m \u001b[1;33m<\u001b[0m \u001b[1;36m2000\u001b[0m\u001b[1;33m)\u001b[0m\u001b[1;33m:\u001b[0m \u001b[1;31m# Navigate through pages by cursor and rate controller\u001b[0m\u001b[1;33m\u001b[0m\u001b[0m\n\u001b[1;32m---> 22\u001b[1;33m     \u001b[0mfollowers\u001b[0m \u001b[1;33m=\u001b[0m \u001b[0mtwitter_api\u001b[0m\u001b[1;33m.\u001b[0m\u001b[0mfollowers\u001b[0m\u001b[1;33m.\u001b[0m\u001b[0mlist\u001b[0m\u001b[1;33m(\u001b[0m\u001b[0mscreen_name\u001b[0m\u001b[1;33m=\u001b[0m\u001b[1;34m'realDonaldTrump'\u001b[0m\u001b[1;33m,\u001b[0m \u001b[0mcursor\u001b[0m\u001b[1;33m=\u001b[0m\u001b[0mnext_cursor\u001b[0m\u001b[1;33m,\u001b[0m \u001b[0mcount\u001b[0m\u001b[1;33m=\u001b[0m\u001b[1;36m200\u001b[0m\u001b[1;33m)\u001b[0m\u001b[1;33m\u001b[0m\u001b[0m\n\u001b[0m\u001b[0;32m     23\u001b[0m     \u001b[0mfollower_list\u001b[0m \u001b[1;33m+=\u001b[0m \u001b[0mfollowers\u001b[0m\u001b[1;33m[\u001b[0m\u001b[1;34m'users'\u001b[0m\u001b[1;33m]\u001b[0m\u001b[1;33m\u001b[0m\u001b[0m\n\u001b[0;32m     24\u001b[0m     \u001b[0mnext_cursor\u001b[0m \u001b[1;33m=\u001b[0m \u001b[0mfollowers\u001b[0m\u001b[1;33m[\u001b[0m\u001b[1;34m'next_cursor'\u001b[0m\u001b[1;33m]\u001b[0m\u001b[1;33m\u001b[0m\u001b[0m\n",
      "\u001b[1;32m/home/sylor/anaconda2/lib/python2.7/site-packages/twitter/api.pyc\u001b[0m in \u001b[0;36m__call__\u001b[1;34m(self, **kwargs)\u001b[0m\n\u001b[0;32m    310\u001b[0m             \u001b[1;32mreturn\u001b[0m \u001b[0mself\u001b[0m\u001b[1;33m.\u001b[0m\u001b[0m_handle_response_with_retry\u001b[0m\u001b[1;33m(\u001b[0m\u001b[0mreq\u001b[0m\u001b[1;33m,\u001b[0m \u001b[0muri\u001b[0m\u001b[1;33m,\u001b[0m \u001b[0marg_data\u001b[0m\u001b[1;33m,\u001b[0m \u001b[0m_timeout\u001b[0m\u001b[1;33m)\u001b[0m\u001b[1;33m\u001b[0m\u001b[0m\n\u001b[0;32m    311\u001b[0m         \u001b[1;32melse\u001b[0m\u001b[1;33m:\u001b[0m\u001b[1;33m\u001b[0m\u001b[0m\n\u001b[1;32m--> 312\u001b[1;33m             \u001b[1;32mreturn\u001b[0m \u001b[0mself\u001b[0m\u001b[1;33m.\u001b[0m\u001b[0m_handle_response\u001b[0m\u001b[1;33m(\u001b[0m\u001b[0mreq\u001b[0m\u001b[1;33m,\u001b[0m \u001b[0muri\u001b[0m\u001b[1;33m,\u001b[0m \u001b[0marg_data\u001b[0m\u001b[1;33m,\u001b[0m \u001b[0m_timeout\u001b[0m\u001b[1;33m)\u001b[0m\u001b[1;33m\u001b[0m\u001b[0m\n\u001b[0m\u001b[0;32m    313\u001b[0m \u001b[1;33m\u001b[0m\u001b[0m\n\u001b[0;32m    314\u001b[0m     \u001b[1;32mdef\u001b[0m \u001b[0m_handle_response\u001b[0m\u001b[1;33m(\u001b[0m\u001b[0mself\u001b[0m\u001b[1;33m,\u001b[0m \u001b[0mreq\u001b[0m\u001b[1;33m,\u001b[0m \u001b[0muri\u001b[0m\u001b[1;33m,\u001b[0m \u001b[0marg_data\u001b[0m\u001b[1;33m,\u001b[0m \u001b[0m_timeout\u001b[0m\u001b[1;33m=\u001b[0m\u001b[0mNone\u001b[0m\u001b[1;33m)\u001b[0m\u001b[1;33m:\u001b[0m\u001b[1;33m\u001b[0m\u001b[0m\n",
      "\u001b[1;32m/home/sylor/anaconda2/lib/python2.7/site-packages/twitter/api.pyc\u001b[0m in \u001b[0;36m_handle_response\u001b[1;34m(self, req, uri, arg_data, _timeout)\u001b[0m\n\u001b[0;32m    343\u001b[0m                 \u001b[1;32mreturn\u001b[0m \u001b[1;33m[\u001b[0m\u001b[1;33m]\u001b[0m\u001b[1;33m\u001b[0m\u001b[0m\n\u001b[0;32m    344\u001b[0m             \u001b[1;32melse\u001b[0m\u001b[1;33m:\u001b[0m\u001b[1;33m\u001b[0m\u001b[0m\n\u001b[1;32m--> 345\u001b[1;33m                 \u001b[1;32mraise\u001b[0m \u001b[0mTwitterHTTPError\u001b[0m\u001b[1;33m(\u001b[0m\u001b[0me\u001b[0m\u001b[1;33m,\u001b[0m \u001b[0muri\u001b[0m\u001b[1;33m,\u001b[0m \u001b[0mself\u001b[0m\u001b[1;33m.\u001b[0m\u001b[0mformat\u001b[0m\u001b[1;33m,\u001b[0m \u001b[0marg_data\u001b[0m\u001b[1;33m)\u001b[0m\u001b[1;33m\u001b[0m\u001b[0m\n\u001b[0m\u001b[0;32m    346\u001b[0m \u001b[1;33m\u001b[0m\u001b[0m\n\u001b[0;32m    347\u001b[0m     \u001b[1;32mdef\u001b[0m \u001b[0m_handle_response_with_retry\u001b[0m\u001b[1;33m(\u001b[0m\u001b[0mself\u001b[0m\u001b[1;33m,\u001b[0m \u001b[0mreq\u001b[0m\u001b[1;33m,\u001b[0m \u001b[0muri\u001b[0m\u001b[1;33m,\u001b[0m \u001b[0marg_data\u001b[0m\u001b[1;33m,\u001b[0m \u001b[0m_timeout\u001b[0m\u001b[1;33m=\u001b[0m\u001b[0mNone\u001b[0m\u001b[1;33m)\u001b[0m\u001b[1;33m:\u001b[0m\u001b[1;33m\u001b[0m\u001b[0m\n",
      "\u001b[1;31mTwitterHTTPError\u001b[0m: Twitter sent status 429 for URL: 1.1/followers/list.json using parameters: (count=200&cursor=1545201621576176381&oauth_consumer_key=iEG3V3LLXNerRncmEWgv8lQ4n&oauth_nonce=14569851442912234998&oauth_signature_method=HMAC-SHA1&oauth_timestamp=1473620593&oauth_token=2380166015-sZywqhm3U9naQ154u0qQQzBv1FJgAWDVSWN6ROB&oauth_version=1.0&screen_name=realDonaldTrump&oauth_signature=rdNBOiLgG9ZRdyEva2pREgutk5M%3D)\ndetails: {u'errors': [{u'message': u'Rate limit exceeded', u'code': 88}]}"
     ]
    }
   ],
   "source": [
    "#----------------------------------------------\n",
    "# Your code starts here\n",
    "#   Please add comments or text cells in between to explain the general idea of each block of the code.\n",
    "#   Please feel free to add more cells below this cell if necessary\n",
    "\n",
    "# Get all friends\n",
    "friends = twitter_api.friends.list(screen_name='realDonaldTrump')\n",
    "friend_list = friends['users']\n",
    "next_cursor = friends['next_cursor']\n",
    "while (next_cursor != -1 and len(friend_list) < 2000): # Navigate through pages by cursor and rate controller\n",
    "    friends = twitter_api.friends.list(screen_name='realDonaldTrump', cursor=next_cursor, count=200)\n",
    "    friend_list += friends['users']\n",
    "    next_cursor = friends['next_cursor']\n",
    "\n",
    "\n",
    "# Get all followers\n",
    "followers = twitter_api.followers.list(screen_name='realDonaldTrump')\n",
    "follower_list = followers['users']\n",
    "next_cursor = followers['next_cursor']\n",
    "rate_counter = 1\n",
    "while (next_cursor != -1 and len(follower_list) < 2000): # Navigate through pages by cursor and rate controller\n",
    "    followers = twitter_api.followers.list(screen_name='realDonaldTrump', cursor=next_cursor, count=200)\n",
    "    follower_list += followers['users']\n",
    "    next_cursor = followers['next_cursor']\n",
    "\n",
    "\n"
   ]
  },
  {
   "cell_type": "code",
   "execution_count": 77,
   "metadata": {
    "collapsed": false
   },
   "outputs": [
    {
     "name": "stdout",
     "output_type": "stream",
     "text": [
      "+--------------------+-----------------+\n",
      "| Friend ID          |   Screen Name   |\n",
      "+--------------------+-----------------+\n",
      "| 34077321           | BigDawgSwifty13 |\n",
      "| 261014695          |     LGlick1     |\n",
      "| 720293443260456960 |      Trump      |\n",
      "| 2325495378         |    TrumpGolf    |\n",
      "| 245963716          |  TiffanyATrump  |\n",
      "| 50769180           |  IngrahamAngle  |\n",
      "| 22203756           |    mike_pence   |\n",
      "| 729676086632656900 |    TeamTrump    |\n",
      "| 14669951           |  DRUDGE_REPORT  |\n",
      "| 475802156          | MrsVanessaTrump |\n",
      "| 75541946           |   LaraLeaTrump  |\n",
      "| 41634520           |   seanhannity   |\n",
      "| 37764422           |    foxnation    |\n",
      "| 4121225056         |  CLewandowski_  |\n",
      "| 196168350          |    AnnCoulter   |\n",
      "| 2908170952         |  DiamondandSilk |\n",
      "| 34852681           |  KatrinaCampins |\n",
      "| 25429371           |  KatrinaPierson |\n",
      "| 52136185           | MichaelCohen212 |\n",
      "| 15513604           |  foxandfriends  |\n",
      "+--------------------+-----------------+\n",
      "+--------------------+-----------------+\n",
      "| Follower ID        |   Screen Name   |\n",
      "+--------------------+-----------------+\n",
      "| 1189247641         |   AMandhaniya   |\n",
      "| 390450321          | MattBlankenshi1 |\n",
      "| 751323566394793984 |      CME513     |\n",
      "| 775042641822150656 |  isaiahifeanyi7 |\n",
      "| 1944373561         |  BrandieGariepy |\n",
      "| 775044706875150337 |     _skans_     |\n",
      "| 705821834839633920 |     Elkram04    |\n",
      "| 775044445905555456 |  Msy5218Aladel  |\n",
      "| 774763519187169280 | StandForTheFlag |\n",
      "| 775044731751444480 |   ButlerLogan2  |\n",
      "| 775043247177621505 |     Noldin1C    |\n",
      "| 775042679176622080 |  satishshiva93  |\n",
      "| 775041239053840384 |     logeymon    |\n",
      "| 1483770241         |    Jenlyons16   |\n",
      "| 584523024          |    Lorsung16    |\n",
      "| 775044343124074496 |   Yunyyunyyun   |\n",
      "| 775042339534274560 |  IslamAshour86  |\n",
      "| 2584600908         |      jlf_hh     |\n",
      "| 500110935          |      laxsen     |\n",
      "| 621980276          |   ColleenOB106  |\n",
      "+--------------------+-----------------+\n"
     ]
    }
   ],
   "source": [
    "# Create table for friend\n",
    "friend_table = PrettyTable(field_names=['Friend ID', 'Screen Name']) # Header\n",
    "for user in friend_list[:20]:\n",
    "    friend_table.add_row([user['id'], user['screen_name']])\n",
    "friend_table.align['Friend ID'], friend_table.align['Screen Name'] = 'l', 'c' # Alignment\n",
    "print friend_table\n",
    "\n",
    "# Create table for follower\n",
    "follower_table = PrettyTable(field_names=['Follower ID', 'Screen Name']) # Header\n",
    "for user in follower_list[:20]:\n",
    "    follower_table.add_row([user['id'], user['screen_name']])\n",
    "follower_table.align['Follower ID'], follower_table.align['Screen Name'] = 'l', 'c' # Alignment\n",
    "print follower_table"
   ]
  },
  {
   "cell_type": "markdown",
   "metadata": {},
   "source": [
    "* Compute the mutual friends within the two groups, i.e., the users who are in both friend list and follower list, plot their ID numbers and screen names in a table"
   ]
  },
  {
   "cell_type": "code",
   "execution_count": 7,
   "metadata": {
    "collapsed": false
   },
   "outputs": [
    {
     "name": "stdout",
     "output_type": "stream",
     "text": [
      "There are no mutual friends.\n"
     ]
    }
   ],
   "source": [
    "#----------------------------------------------\n",
    "# Your code starts here\n",
    "#   Please add comments or text cells in between to explain the general idea of each block of the code.\n",
    "#   Please feel free to add more cells below this cell if necessary\n",
    "\n",
    "# Create Set for friend and follower\n",
    "friend = set([(friend['id'], friend['screen_name']) for friend in friend_list])\n",
    "follower = set([(follower['id'], follower['screen_name']) for follower in follower_list])\n",
    "\n",
    "# Check mutual friend\n",
    "mutual_friend = friend.intersection(follower)\n",
    "if (len(mutual_friend) == 0):\n",
    "    print \"There are no mutual friends.\"\n",
    "else:\n",
    "    mutual_table = PrettyTable(field_names=['Mutual Friend ID', 'Screen Name']) # Create table for mutual friend\n",
    "    for mutual in mutual_friend:\n",
    "        mutual_table.add_row([mutual[0], mutual[1]])\n",
    "    mutual_table.align['Mutual Friend ID'], mutual_table.align['Screen Name'] = 'l', 'c'\n",
    "    print mutual_table\n",
    "\n",
    "\n",
    "\n",
    "\n"
   ]
  },
  {
   "cell_type": "markdown",
   "metadata": {},
   "source": [
    "*------------------------\n",
    "\n",
    "# Problem 4: Business question \n",
    "\n",
    "Run some additional experiments with your data to gain familiarity with the twitter data and twitter API.\n",
    "\n",
    "* Come up with a business question that Twitter data could help answer.\n",
    "* Decribe the business case.\n",
    "* How could Twitter data help a company decide how to spend its resources."
   ]
  },
  {
   "cell_type": "code",
   "execution_count": 4,
   "metadata": {
    "collapsed": false
   },
   "outputs": [],
   "source": [
    "#----------------------------------------------\n",
    "# Your code starts here\n",
    "#   Please add comments or text cells in between to explain the general idea of each block of the code.\n",
    "#   Please feel free to add more cells below this cell if necessary\n",
    "\n",
    "\n",
    "\n"
   ]
  },
  {
   "cell_type": "markdown",
   "metadata": {},
   "source": [
    "*-----------------\n",
    "# Done\n",
    "\n",
    "All set! \n",
    "\n",
    "** What do you need to submit?**\n",
    "\n",
    "* **Notebook File**: Save this IPython notebook, and find the notebook file in your folder (for example, \"filename.ipynb\"). This is the file you need to submit. Please make sure all the plotted tables and figures are in the notebook. If you used \"ipython notebook --pylab=inline\" to open the notebook, all the figures and tables should have shown up in the notebook.\n",
    "\n",
    "\n",
    "* **PPT Slides**: please prepare PPT slides (for 10 minutes' talk) to present about the case study . We will ask two teams which are randomly selected to present their case studies in class for this case study. \n",
    "\n",
    "* ** Report**: please prepare a report (less than 10 pages) to report what you found in the data.\n",
    "    * What data you collected? \n",
    "    * Why this topic is interesting or important to you? (Motivations)\n",
    "    * How did you analyse the data?\n",
    "    * What did you find in the data? \n",
    " \n",
    "     (please include figures or tables in the report, but no source code)\n",
    "\n",
    "Please compress all the files in a zipped file.\n",
    "\n",
    "\n",
    "** How to submit: **\n",
    "\n",
    "        Please submit through email to Prof. Paffenroth (rcpaffenroth@wpi.edu) *and* the TA Wen Liu (wliu3@wpi.edu).\n",
    "        \n",
    "** Note: Each team just needs to submits one submission **"
   ]
  },
  {
   "cell_type": "markdown",
   "metadata": {},
   "source": [
    "# Grading Criteria:\n",
    "\n",
    "** Totoal Points: 120 **\n",
    "\n",
    "\n",
    "---------------------------------------------------------------------------\n",
    "** Notebook:  **\n",
    "    Points: 80\n",
    "\n",
    "\n",
    "    -----------------------------------\n",
    "    Qestion 1:\n",
    "    Points: 20\n",
    "    -----------------------------------\n",
    "    \n",
    "    (1) Select a topic that you are interested in.\n",
    "    Points: 6 \n",
    "    \n",
    "    (2) Use Twitter Streaming API to sample a collection of tweets about this topic in real time. (It would be recommended that the number of tweets should be larger than 200, but smaller than 1 million. Please check whether the total number of tweets collected is larger than 200?\n",
    "    Points: 10 \n",
    "    \n",
    "    \n",
    "    (3) Store the tweets you downloaded into a local file (txt file or json file)\n",
    "    Points: 4 \n",
    "    \n",
    "    \n",
    "    -----------------------------------\n",
    "    Qestion 2:\n",
    "    Points: 20\n",
    "    -----------------------------------\n",
    "    \n",
    "    1. Word Count\n",
    "\n",
    "    (1) Use the tweets you collected in Problem 1, and compute the frequencies of the words being used in these tweets.\n",
    "    Points: 4 \n",
    "\n",
    "    (2) Plot a table of the top 30 words with their counts \n",
    "    Points: 4 \n",
    "    \n",
    "    2. Find the most popular tweets in your collection of tweets\n",
    "    plot a table of the top 10 tweets that are the most popular among your collection, i.e., the tweets with the largest number of retweet counts.\n",
    "    Points: 4 \n",
    "    \n",
    "    3. Find the most popular Tweet Entities in your collection of tweets\n",
    "\n",
    "    (1) plot a table of the top 10 hashtags, \n",
    "    Points: 4 \n",
    "\n",
    "    (2) top 10 user mentions that are the most popular in your collection of tweets.\n",
    "    Points: 4 \n",
    "    \n",
    "    \n",
    "    -----------------------------------\n",
    "    Qestion 3:\n",
    "    Points: 20\n",
    "    -----------------------------------\n",
    "    \n",
    "    (1) choose a popular twitter user who has many followers, such as \"ladygaga\".\n",
    "    Points: 4 \n",
    "\n",
    "    (2) Get the list of all friends and all followers of the twitter user.\n",
    "    Points: 4 \n",
    "\n",
    "    (3) Plot 20 out of the followers, plot their ID numbers and screen names in a table.\n",
    "    Points: 4 \n",
    "\n",
    "    (4) Plot 20 out of the friends (if the user has more than 20 friends), plot their ID numbers and screen names in a table.\n",
    "    Points: 4 \n",
    "    \n",
    "    (5) Compute the mutual friends within the two groups, i.e., the users who are in both friend list and follower list, plot their ID numbers and screen names in a table\n",
    "    Points: 4 \n",
    "  \n",
    "    -----------------------------------\n",
    "    Qestion 4:  Business question\n",
    "    Points: 20\n",
    "    -----------------------------------\n",
    "        Novelty: 10\n",
    "        Interestingness: 10\n",
    "    -----------------------------------\n",
    "    Run some additional experiments with your data to gain familiarity with the twitter data ant twitter API.  Come up with a business question and describe how Twitter data can help you answer that question.\n",
    "\n",
    "\n",
    "\n",
    "\n",
    "---------------------------------------------------------------------------\n",
    "** Report: communicate the results**\n",
    "    Points: 20\n",
    "\n",
    "(1) What data you collected?\n",
    "    Points: 5 \n",
    "\n",
    "(2) Why this topic is interesting or important to you? (Motivations)\n",
    "    Points: 5 \n",
    "\n",
    "(3) How did you analyse the data?\n",
    "    Points: 5 \n",
    "\n",
    "(4) What did you find in the data?\n",
    "(please include figures or tables in the report, but no source code)\n",
    "    Points: 5 \n",
    "\n",
    "\n",
    "\n",
    "---------------------------------------------------------------------------\n",
    "** Slides (for 10 minutes of presentation): Story-telling **\n",
    "    Points: 20\n",
    "\n",
    "\n",
    "1. Motivation about the data collection, why the topic is interesting to you.\n",
    "    Points: 5 \n",
    "\n",
    "2. Communicating Results (figure/table)\n",
    "    Points: 10 \n",
    "\n",
    "3. Story telling (How all the parts (data, analysis, result) fit together as a story?)\n",
    "    Points: 5 \n",
    "\n"
   ]
  },
  {
   "cell_type": "code",
   "execution_count": null,
   "metadata": {
    "collapsed": false
   },
   "outputs": [],
   "source": []
  }
 ],
 "metadata": {
  "anaconda-cloud": {},
  "kernelspec": {
   "display_name": "Python 2",
   "language": "python",
   "name": "python2"
  },
  "language_info": {
   "codemirror_mode": {
    "name": "ipython",
    "version": 2
   },
   "file_extension": ".py",
   "mimetype": "text/x-python",
   "name": "python",
   "nbconvert_exporter": "python",
   "pygments_lexer": "ipython2",
   "version": "2.7.12"
  }
 },
 "nbformat": 4,
 "nbformat_minor": 0
}
